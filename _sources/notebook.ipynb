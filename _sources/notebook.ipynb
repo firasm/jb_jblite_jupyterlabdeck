{
 "cells": [
  {
   "cell_type": "markdown",
   "id": "228339c9-543a-4411-af86-321b1e8660f8",
   "metadata": {
    "slideshow": {
     "slide_type": "slide"
    },
    "tags": [],
    "user_expressions": []
   },
   "source": [
    "# Heading\n",
    "\n",
    "There is a bunch of random stuff here!\n",
    "\n",
    "- Bullet 1\n",
    "- Bullet 2\n",
    "- Bullet 3"
   ]
  },
  {
   "cell_type": "markdown",
   "id": "e3960ec0",
   "metadata": {
    "slideshow": {
     "slide_type": "slide"
    },
    "tags": [],
    "user_expressions": []
   },
   "source": [
    "## To Do list"
   ]
  },
  {
   "cell_type": "markdown",
   "id": "1872f173",
   "metadata": {
    "slideshow": {
     "slide_type": "fragment"
    },
    "tags": [],
    "user_expressions": []
   },
   "source": [
    "```{important}\n",
    "- [ ] The new `jupyterlab_myst` feature to have a clickable checklist doesn't seem to work in a markdown file (but it probably works in a JupyterLab notebook) \n",
    "- [ ] Find a way to set `[overrides.json](https://jupyterlab.readthedocs.io/en/stable/user/directories.html#overrides-json)` so the [jupyterlab-deck starts in slide mode](https://jupyterlab-deck.readthedocs.io/en/stable/#enabling-deck-mode-at-startup).\n",
    "- [ ] Fix the annoying \"JupyterLab Code Formatter\" error! (need to disable the extension on JupyterLite)\n",
    "- [ ] Find a way to configure the environment so I can tell it what python packages to start with\n",
    "- [ ] Add some styling elements to the `jupyterlite` directive so the width and the height can be controlled.\n",
    "- [ ] Export the `jupyterlab-deck` to a PDF or to HTML.\n",
    "```"
   ]
  },
  {
   "cell_type": "code",
   "execution_count": 1,
   "id": "ec3089a8-fb14-421d-a372-faed29e0b846",
   "metadata": {
    "slideshow": {
     "slide_type": "fragment"
    },
    "tags": []
   },
   "outputs": [
    {
     "name": "stdout",
     "output_type": "stream",
     "text": [
      "hello World\n"
     ]
    }
   ],
   "source": [
    "print(\"hello World\")"
   ]
  },
  {
   "cell_type": "code",
   "execution_count": null,
   "id": "90958cf3-ca8a-4aa9-afdf-76af82527dd4",
   "metadata": {},
   "outputs": [],
   "source": [
    "       "
   ]
  },
  {
   "cell_type": "markdown",
   "id": "57f4fbe2-c072-48d9-8a7b-be5591a47634",
   "metadata": {
    "slideshow": {
     "slide_type": "subslide"
    },
    "tags": [],
    "user_expressions": []
   },
   "source": [
    "## Subsection"
   ]
  },
  {
   "cell_type": "markdown",
   "id": "8fe5161a-3e4c-4631-881e-7c2eaafde535",
   "metadata": {
    "slideshow": {
     "slide_type": "fragment"
    },
    "tags": [],
    "user_expressions": []
   },
   "source": [
    "```{admonition} This is a title\n",
    "An example of an admonition with a title.\n",
    "```"
   ]
  },
  {
   "cell_type": "markdown",
   "id": "64cfb961-e27f-4463-9b3c-4c2826a93c62",
   "metadata": {
    "slideshow": {
     "slide_type": "subslide"
    },
    "tags": [],
    "user_expressions": []
   },
   "source": [
    "### Another Subsection\n",
    "\n",
    "\n",
    "```{note} This is a note\n",
    "An example of an admonition with a note.\n",
    "```\n",
    "\n"
   ]
  },
  {
   "cell_type": "markdown",
   "id": "496eb03e-6ef3-4cca-80be-a807580d30f3",
   "metadata": {
    "slideshow": {
     "slide_type": "subslide"
    },
    "tags": [],
    "user_expressions": []
   },
   "source": [
    "### Another slide\n",
    "\n",
    "```{warning}\n",
    "some more text...\n",
    "```"
   ]
  },
  {
   "cell_type": "markdown",
   "id": "bb402fae-87fc-4244-97e8-71d23995fedc",
   "metadata": {
    "slideshow": {
     "slide_type": "subslide"
    },
    "tags": [],
    "user_expressions": []
   },
   "source": [
    "## Subsection"
   ]
  },
  {
   "cell_type": "markdown",
   "id": "3bd88782-1099-44a2-ad85-33e992cfae46",
   "metadata": {
    "slideshow": {
     "slide_type": "fragment"
    },
    "tags": [],
    "user_expressions": []
   },
   "source": [
    "Lorem ipsum dolor sit amet, consectetur adipiscing elit. Cras luctus massa in enim dictum, quis viverra lacus lacinia. Donec pellentesque massa non nisi tincidunt vehicula. Nunc id felis ac purus aliquam ultrices. Vestibulum vitae dui id velit egestas accumsan. Integer laoreet nisi dolor, vel semper risus varius commodo. Integer quis est vel mi viverra semper eget a justo. Praesent ac mi convallis, posuere tellus in, semper erat. Duis et sodales odio. Phasellus ac suscipit arcu. Sed rutrum semper ornare. Pellentesque habitant morbi tristique senectus et netus et malesuada fames ac turpis egestas. Cras tempor, nunc eu finibus iaculis, felis quam vehicula arcu, eget lacinia ligula mi ut sapien. Nam cursus sollicitudin libero. Ut fringilla elementum purus non dapibus. Curabitur nec egestas turpis.\n",
    "\n",
    "Lorem ipsum dolor sit amet, consectetur adipiscing elit. Pellentesque vulputate mollis eros, nec euismod ex tincidunt commodo. Nulla facilisi. Morbi pharetra commodo lobortis. Phasellus elementum ante ut dictum cursus. Nullam feugiat commodo blandit. Maecenas feugiat libero neque, vel aliquam lorem varius et. Praesent a nulla nec eros blandit egestas. Donec vitae magna sed sem vestibulum feugiat vitae maximus libero. Pellentesque eu sollicitudin metus, a consectetur libero. Vestibulum nec nulla in nulla faucibus blandit porta ac augue. Nullam in libero nec nisi ultricies semper id vitae ipsum. Nulla luctus molestie dolor. Proin tincidunt varius sollicitudin. Duis commodo purus at felis tristique interdum in sit amet mauris.\n",
    "\n"
   ]
  },
  {
   "cell_type": "markdown",
   "id": "1fcb4aca-b4f4-4f46-8706-17c760b0e23f",
   "metadata": {
    "slideshow": {
     "slide_type": "subslide"
    },
    "tags": [],
    "user_expressions": []
   },
   "source": [
    "```{error}\n",
    "This is an example\n",
    "of an error directive.\n",
    "```"
   ]
  },
  {
   "cell_type": "code",
   "execution_count": 2,
   "id": "098a2ebc-d0d8-465e-a21b-3e63cdc9ca61",
   "metadata": {
    "slideshow": {
     "slide_type": "fragment"
    },
    "tags": []
   },
   "outputs": [
    {
     "name": "stdout",
     "output_type": "stream",
     "text": [
      "The Zen of Python, by Tim Peters\n",
      "\n",
      "Beautiful is better than ugly.\n",
      "Explicit is better than implicit.\n",
      "Simple is better than complex.\n",
      "Complex is better than complicated.\n",
      "Flat is better than nested.\n",
      "Sparse is better than dense.\n",
      "Readability counts.\n",
      "Special cases aren't special enough to break the rules.\n",
      "Although practicality beats purity.\n",
      "Errors should never pass silently.\n",
      "Unless explicitly silenced.\n",
      "In the face of ambiguity, refuse the temptation to guess.\n",
      "There should be one-- and preferably only one --obvious way to do it.\n",
      "Although that way may not be obvious at first unless you're Dutch.\n",
      "Now is better than never.\n",
      "Although never is often better than *right* now.\n",
      "If the implementation is hard to explain, it's a bad idea.\n",
      "If the implementation is easy to explain, it may be a good idea.\n",
      "Namespaces are one honking great idea -- let's do more of those!\n"
     ]
    }
   ],
   "source": [
    "import this"
   ]
  },
  {
   "cell_type": "code",
   "execution_count": 3,
   "id": "6f4fa636-aa8b-43b8-8728-828a9112257d",
   "metadata": {
    "slideshow": {
     "slide_type": "fragment"
    },
    "tags": []
   },
   "outputs": [],
   "source": [
    "import seaborn as sns"
   ]
  },
  {
   "cell_type": "code",
   "execution_count": 4,
   "id": "e2e00c3d-08ad-4956-9420-399f7e32778b",
   "metadata": {
    "slideshow": {
     "slide_type": "fragment"
    },
    "tags": []
   },
   "outputs": [
    {
     "name": "stdout",
     "output_type": "stream",
     "text": [
      "0\n",
      "2\n",
      "4\n",
      "6\n",
      "8\n"
     ]
    }
   ],
   "source": [
    "for i in range(10):\n",
    "    if i % 2 == 0:\n",
    "        print(i)"
   ]
  },
  {
   "cell_type": "code",
   "execution_count": null,
   "id": "20c1f803-05d1-4804-a400-5a87c19275ef",
   "metadata": {},
   "outputs": [],
   "source": []
  }
 ],
 "metadata": {
  "kernelspec": {
   "display_name": "Python 3 (ipykernel)",
   "language": "python",
   "name": "python3"
  },
  "language_info": {
   "codemirror_mode": {
    "name": "ipython",
    "version": 3
   },
   "file_extension": ".py",
   "mimetype": "text/x-python",
   "name": "python",
   "nbconvert_exporter": "python",
   "pygments_lexer": "ipython3",
   "version": "3.10.2"
  }
 },
 "nbformat": 4,
 "nbformat_minor": 5
}
