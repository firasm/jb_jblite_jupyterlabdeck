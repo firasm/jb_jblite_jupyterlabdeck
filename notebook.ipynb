{
 "cells": [
  {
   "cell_type": "markdown",
   "id": "228339c9-543a-4411-af86-321b1e8660f8",
   "metadata": {
    "slideshow": {
     "slide_type": "slide"
    },
    "tags": [],
    "user_expressions": []
   },
   "source": [
    "# Heading"
   ]
  },
  {
   "cell_type": "markdown",
   "id": "f71cf723-ab4e-4b90-9c3d-aa28320fc3dd",
   "metadata": {
    "jupyterlab-deck": {
     "layer": "slide"
    },
    "slideshow": {
     "slide_type": "fragment"
    },
    "tags": [],
    "user_expressions": []
   },
   "source": [
    "````\n",
    "```{figure} https://source.unsplash.com/random/400x200?beach,ocean\n",
    ":name: myFigure\n",
    ":alt: Random image of the beach or ocean!\n",
    ":align: center\n",
    "\n",
    "Relaxing at the beach 🏝 🌊 😎\n",
    "```\n",
    "````"
   ]
  },
  {
   "cell_type": "markdown",
   "id": "57f4fbe2-c072-48d9-8a7b-be5591a47634",
   "metadata": {
    "slideshow": {
     "slide_type": "subslide"
    },
    "tags": [],
    "user_expressions": []
   },
   "source": [
    "## Subsection"
   ]
  },
  {
   "cell_type": "markdown",
   "id": "8fe5161a-3e4c-4631-881e-7c2eaafde535",
   "metadata": {
    "slideshow": {
     "slide_type": "fragment"
    },
    "tags": [],
    "user_expressions": []
   },
   "source": [
    "```{admonition} This is a title\n",
    "An example of an admonition with a title.\n",
    "```"
   ]
  },
  {
   "cell_type": "markdown",
   "id": "64cfb961-e27f-4463-9b3c-4c2826a93c62",
   "metadata": {
    "slideshow": {
     "slide_type": "subslide"
    },
    "tags": [],
    "user_expressions": []
   },
   "source": [
    "### Another Subsection\n",
    "\n",
    "\n",
    "```{note} This is a note\n",
    "An example of an admonition with a note.\n",
    "```\n",
    "\n"
   ]
  },
  {
   "cell_type": "markdown",
   "id": "496eb03e-6ef3-4cca-80be-a807580d30f3",
   "metadata": {
    "slideshow": {
     "slide_type": "subslide"
    },
    "tags": [],
    "user_expressions": []
   },
   "source": [
    "### Another slide\n",
    "\n",
    "```{warning} text\n",
    "some more text...\n",
    "```"
   ]
  },
  {
   "cell_type": "markdown",
   "id": "bb402fae-87fc-4244-97e8-71d23995fedc",
   "metadata": {
    "slideshow": {
     "slide_type": "subslide"
    },
    "tags": [],
    "user_expressions": []
   },
   "source": [
    "## Subsection"
   ]
  },
  {
   "cell_type": "markdown",
   "id": "3bd88782-1099-44a2-ad85-33e992cfae46",
   "metadata": {
    "slideshow": {
     "slide_type": "fragment"
    },
    "tags": [],
    "user_expressions": []
   },
   "source": [
    "Lorem ipsum dolor sit amet, consectetur adipiscing elit. Cras luctus massa in enim dictum, quis viverra lacus lacinia. Donec pellentesque massa non nisi tincidunt vehicula. Nunc id felis ac purus aliquam ultrices. Vestibulum vitae dui id velit egestas accumsan. Integer laoreet nisi dolor, vel semper risus varius commodo. Integer quis est vel mi viverra semper eget a justo. Praesent ac mi convallis, posuere tellus in, semper erat. Duis et sodales odio. Phasellus ac suscipit arcu. Sed rutrum semper ornare. Pellentesque habitant morbi tristique senectus et netus et malesuada fames ac turpis egestas. Cras tempor, nunc eu finibus iaculis, felis quam vehicula arcu, eget lacinia ligula mi ut sapien. Nam cursus sollicitudin libero. Ut fringilla elementum purus non dapibus. Curabitur nec egestas turpis.\n",
    "\n",
    "Lorem ipsum dolor sit amet, consectetur adipiscing elit. Pellentesque vulputate mollis eros, nec euismod ex tincidunt commodo. Nulla facilisi. Morbi pharetra commodo lobortis. Phasellus elementum ante ut dictum cursus. Nullam feugiat commodo blandit. Maecenas feugiat libero neque, vel aliquam lorem varius et. Praesent a nulla nec eros blandit egestas. Donec vitae magna sed sem vestibulum feugiat vitae maximus libero. Pellentesque eu sollicitudin metus, a consectetur libero. Vestibulum nec nulla in nulla faucibus blandit porta ac augue. Nullam in libero nec nisi ultricies semper id vitae ipsum. Nulla luctus molestie dolor. Proin tincidunt varius sollicitudin. Duis commodo purus at felis tristique interdum in sit amet mauris.\n",
    "\n"
   ]
  },
  {
   "cell_type": "markdown",
   "id": "1fcb4aca-b4f4-4f46-8706-17c760b0e23f",
   "metadata": {
    "slideshow": {
     "slide_type": "subslide"
    },
    "tags": [],
    "user_expressions": []
   },
   "source": [
    "```{error} This is an example\n",
    "of an error directive.\n",
    "```"
   ]
  },
  {
   "cell_type": "code",
   "execution_count": 25,
   "id": "098a2ebc-d0d8-465e-a21b-3e63cdc9ca61",
   "metadata": {
    "slideshow": {
     "slide_type": "fragment"
    },
    "tags": []
   },
   "outputs": [],
   "source": [
    "import this"
   ]
  },
  {
   "cell_type": "code",
   "execution_count": 26,
   "id": "6f4fa636-aa8b-43b8-8728-828a9112257d",
   "metadata": {
    "slideshow": {
     "slide_type": "fragment"
    },
    "tags": []
   },
   "outputs": [],
   "source": [
    "import seaborn as sns"
   ]
  },
  {
   "cell_type": "code",
   "execution_count": 27,
   "id": "e2e00c3d-08ad-4956-9420-399f7e32778b",
   "metadata": {
    "slideshow": {
     "slide_type": "fragment"
    },
    "tags": []
   },
   "outputs": [
    {
     "name": "stdout",
     "output_type": "stream",
     "text": [
      "0\n",
      "2\n",
      "4\n",
      "6\n",
      "8\n"
     ]
    }
   ],
   "source": [
    "for i in range(10):\n",
    "    if i % 2 == 0:\n",
    "        print(i)"
   ]
  },
  {
   "cell_type": "code",
   "execution_count": null,
   "id": "20c1f803-05d1-4804-a400-5a87c19275ef",
   "metadata": {},
   "outputs": [],
   "source": []
  }
 ],
 "metadata": {
  "kernelspec": {
   "display_name": "Python 3 (ipykernel)",
   "language": "python",
   "name": "python3"
  },
  "language_info": {
   "codemirror_mode": {
    "name": "ipython",
    "version": 3
   },
   "file_extension": ".py",
   "mimetype": "text/x-python",
   "name": "python",
   "nbconvert_exporter": "python",
   "pygments_lexer": "ipython3",
   "version": "3.10.2"
  }
 },
 "nbformat": 4,
 "nbformat_minor": 5
}
